{
 "cells": [
  {
   "cell_type": "code",
   "execution_count": 26,
   "metadata": {
    "scrolled": false
   },
   "outputs": [
    {
     "name": "stdout",
     "output_type": "stream",
     "text": [
      "Election Analysis\n",
      "------------------\n",
      "Total number of votes: 3521001\n",
      "------------------\n",
      "Khan : (2218231) => 63.0%\n",
      "Correy : (704200) => 20.0%\n",
      "Li : (492940) => 14.000000000000002%\n",
      "O'Tooley : (105630) => 3.0%\n",
      "------------------\n",
      "The winner is:  Khan\n",
      "------------------\n"
     ]
    }
   ],
   "source": [
    "\n",
    "#**********************************************\n",
    "#\n",
    "# PyPoll Homework 3/16/2019\n",
    "# Harish Krishna\n",
    "#\n",
    "#**********************************************\n",
    "\n",
    "import os\n",
    "import csv\n",
    "\n",
    "csvpath = \"./election_data.csv\"\n",
    "list_of_candidates = {}\n",
    "vote_count_candidate = {}\n",
    "hold_candidate = \"\"\n",
    "\n",
    "with open(csvpath, newline='') as csvfile:\n",
    "\n",
    "    # CSV reader reads from current directory\n",
    "    csvreader = csv.reader(csvfile, delimiter=',')\n",
    "\n",
    "    # Read the header row first\n",
    "    csv_header = next(csvreader)\n",
    "\n",
    "    # Initialize variables\n",
    "    row_count = 0\n",
    "    \n",
    "    # Read each row of data after the header\n",
    "    for row in csvreader:\n",
    "        row_count = row_count + 1  \n",
    "        candidate = row[2]\n",
    "        county = row[1]\n",
    "        number_votes = row[0]\n",
    "       \n",
    "        if candidate == hold_candidate:\n",
    "            continue\n",
    "        else:\n",
    "            list_of_candidates.update({candidate: 0}) \n",
    "        \n",
    "        hold_candidate = candidate\n",
    "        \n",
    "print('Election Analysis')\n",
    "print('------------------')            \n",
    "print('Total number of votes:', row_count)\n",
    "print('------------------')  \n",
    "\n",
    "with open(csvpath, newline='') as csvfile:\n",
    "\n",
    "    # CSV reader reads from current directory\n",
    "    csvreader = csv.reader(csvfile, delimiter=',')\n",
    "\n",
    "    # Read the header row first\n",
    "    csv_header = next(csvreader)\n",
    "\n",
    "    # Initialize variables\n",
    "    row_count1 = 0\n",
    "\n",
    "    for row1 in csvreader:\n",
    "        row_count1 = row_count1 + 1 \n",
    "        candidate1 = row1[2]\n",
    "        \n",
    "        list_of_candidates[candidate1] = list_of_candidates[candidate1] + 1\n",
    "\n",
    "for candidate2 in list_of_candidates:\n",
    "        vote_count = list_of_candidates[candidate2]\n",
    "        pct = round((vote_count / row_count), 2 ) * 100\n",
    "        print(\"{key} : ({value}) => {pct}%\".format(key=candidate2, value=vote_count, pct=pct))\n",
    "print('------------------')  \n",
    "winner = max(list_of_candidates, key=list_of_candidates.get)   \n",
    "print('The winner is: ', winner)\n",
    "print('------------------')  \n",
    "    \n",
    "    \n",
    "\n"
   ]
  },
  {
   "cell_type": "code",
   "execution_count": null,
   "metadata": {
    "collapsed": true
   },
   "outputs": [],
   "source": []
  },
  {
   "cell_type": "code",
   "execution_count": null,
   "metadata": {
    "collapsed": true
   },
   "outputs": [],
   "source": []
  },
  {
   "cell_type": "code",
   "execution_count": null,
   "metadata": {
    "collapsed": true
   },
   "outputs": [],
   "source": []
  }
 ],
 "metadata": {
  "kernelspec": {
   "display_name": "Python 3",
   "language": "python",
   "name": "python3"
  },
  "language_info": {
   "codemirror_mode": {
    "name": "ipython",
    "version": 3
   },
   "file_extension": ".py",
   "mimetype": "text/x-python",
   "name": "python",
   "nbconvert_exporter": "python",
   "pygments_lexer": "ipython3",
   "version": "3.6.3"
  }
 },
 "nbformat": 4,
 "nbformat_minor": 2
}
