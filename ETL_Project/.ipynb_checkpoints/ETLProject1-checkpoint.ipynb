{
 "cells": [
  {
   "cell_type": "code",
   "execution_count": 1,
   "metadata": {
    "collapsed": true
   },
   "outputs": [],
   "source": [
    "import pymysql\n",
    "import pandas as pd\n",
    "import csv"
   ]
  },
  {
   "cell_type": "code",
   "execution_count": 5,
   "metadata": {},
   "outputs": [],
   "source": [
    "conn = pymysql.connect(host='localhost',\n",
    "                            user='root',\n",
    "                            port=3306,\n",
    "                            password='Kaveri!!06',\n",
    "                            db='chargingS_dealers')"
   ]
  },
  {
   "cell_type": "code",
   "execution_count": 6,
   "metadata": {},
   "outputs": [],
   "source": [
    "mycursor = conn.cursor()\n",
    "try:\n",
    "    mycursor.execute(\"CREATE TABLE IF NOT EXISTS chargS_dealers (LICYR VARCHAR(8), LICTYPE VARCHAR(2), LICNO VARCHAR(10), BUSNAME VARCHAR(255),OWNERSHIP VARCHAR(10), LOTADDR VARCHAR(250),LOTCITY VARCHAR(100),LOTSTATE VARCHAR(2),PHONE VARCHAR(15))\")\n",
    "except:\n",
    "   print(\"Table already exists!\")"
   ]
  },
  {
   "cell_type": "code",
   "execution_count": 7,
   "metadata": {
    "collapsed": true
   },
   "outputs": [],
   "source": [
    "#sql = (\"INSERT INTO chargS_dealers (number, info) VALUES (%s, %s)\", (numbers, animals))\n",
    "#sql = (\"INSERT INTO favourite (number, info) VALUES (%s, %s)\", (numbers, animals))\n",
    "#sql=(\"INSERT INTO favourite (number, info) VALUES ({},{})\".format(numbers,animals))\n",
    "#https://catalog.data.gov/dataset?q=Car+dealers+&sort=score+desc%2C+name+asc&as_sfid=AAAAAAXrtCIU_9aSkbRq8k89u0zBOUrLppDriGclqvXUbKYVCEjM0uG5e51GYs3WzUylOQnxsFVS5R9DJqzpAnw3CDQQZdra4kC2f_LPcopyNYO2CPz4YKLHbYQl0GLEQj3WFnA%3D&as_fid=7813dc75877c8141820165960bc3bb976e5d7a6d"
   ]
  },
  {
   "cell_type": "code",
   "execution_count": 8,
   "metadata": {},
   "outputs": [],
   "source": [
    "#hSql = \"INSERT INTO chargeS(LICYR,LICTYPE,LICNO,BUSNAME,OWNERSHIP,LOTADDR,LOTCITY,LOTSTATE,PHONE) VALUES,'\"\n",
    "with open('WEBMASTLICENSEQY.csv') as csvDataFile:\n",
    "    csvReader = csv.reader(csvDataFile)\n",
    "    \n",
    "    for row in csvReader:\n",
    "        #print(row)\n",
    "        if row[1] != \"LICYR\":\n",
    "            if row[1] == 'UD' or row[1] == 'WD':\n",
    "                \n",
    "                stringVal = \"'\"\n",
    "                stringVal += row[0]\n",
    "                stringVal += \"','\" + row[1]+ \"',\"\n",
    "                stringVal += \"'\" + row[2]+ \"',\"\n",
    "                stringVal += \"'\" + row[3].replace(\"'\", \"\")+ \"',\"\n",
    "                stringVal += \"'\" + row[4]+ \"',\"\n",
    "                stringVal += \"'\" + row[5].replace(\"'\", \"\")+ \"',\"\n",
    "                stringVal += \"'\" + row[6]+ \"',\"\n",
    "                stringVal += \"'\" + row[7]+ \"',\"\n",
    "                stringVal += \"'\" + row[8]+ \"')\"\n",
    "              \n",
    "                sql = 'INSERT INTO chargs_dealers(LICYR,LICTYPE,LICNO,BUSNAME,OWNERSHIP,LOTADDR,LOTCITY,LOTSTATE,PHONE) VALUES('\n",
    "                sql = sql + stringVal\n",
    "                #print(sql)\n",
    "                try :\n",
    "                    mycursor.execute(sql)\n",
    "                    conn.commit()\n",
    "                except :\n",
    "                    conn.rollback()\n",
    "                              #print(mycursor.rowcount, \"record inserted.\")"
   ]
  },
  {
   "cell_type": "markdown",
   "metadata": {},
   "source": [
    "INSERT INTO chargs_dealers(LICYR,LICTYPE,LICNO,BUSNAME,OWNERSHIP,LOTADDR,LOTCITY,LOTSTATE,PHONE) VALUES('15','UD','7824','#9  AUTO SALES, LLC','LLC','43514 HIGHWAY 9','TECUMSEH','OK','(405) 598-8876')\n",
    "INSERT INTO chargs_dealers(LICYR,LICTYPE,LICNO,BUSNAME,OWNERSHIP,LOTADDR,LOTCITY,LOTSTATE,PHONE) VALUES('15','UD','5907','10,000 RPM CLASSICS','S','103 MALLARD ROW','GOLDSBY','OK','(405) 288-2496')\n",
    "INSERT INTO chargs_dealers(LICYR,LICTYPE,LICNO,BUSNAME,OWNERSHIP,LOTADDR,LOTCITY,LOTSTATE,PHONE) VALUES('15','UD','1247','108 AUTO & TRUCK SALVAGE, INC.','C','4410 N. ROSE ROAD','STILLWATER','OK','(405) 372-0702')\n"
   ]
  },
  {
   "cell_type": "code",
   "execution_count": null,
   "metadata": {
    "collapsed": true
   },
   "outputs": [],
   "source": []
  }
 ],
 "metadata": {
  "kernelspec": {
   "display_name": "Python 3",
   "language": "python",
   "name": "python3"
  },
  "language_info": {
   "codemirror_mode": {
    "name": "ipython",
    "version": 3
   },
   "file_extension": ".py",
   "mimetype": "text/x-python",
   "name": "python",
   "nbconvert_exporter": "python",
   "pygments_lexer": "ipython3",
   "version": "3.6.3"
  }
 },
 "nbformat": 4,
 "nbformat_minor": 2
}
