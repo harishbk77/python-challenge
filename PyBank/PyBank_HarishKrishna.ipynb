{
 "cells": [
  {
   "cell_type": "code",
   "execution_count": 43,
   "metadata": {
    "scrolled": false
   },
   "outputs": [
    {
     "name": "stdout",
     "output_type": "stream",
     "text": [
      "Financial Analysis\n",
      "------------------\n",
      "Total number of months: 86\n",
      "Total amount of \"Profit/Losses\": $ 38382578\n",
      "Average of the changes in \"Profit/Losses\": -2315.12\n",
      "Greatest Increase in Profits: Feb-2012 ($ 1926159 )\n",
      "Greatest Decrease in Profits: Sep-2013 ($ -2196167 )\n"
     ]
    }
   ],
   "source": [
    "\n",
    "#**********************************************\n",
    "#\n",
    "# PyBank Homework 3/16/2019\n",
    "# Harish Krishna\n",
    "#\n",
    "#**********************************************\n",
    "\n",
    "import os\n",
    "import csv\n",
    "\n",
    "csvpath = \"./budget_data.csv\"\n",
    "\n",
    "with open(csvpath, newline='') as csvfile:\n",
    "\n",
    "    # CSV reader reads from current directory\n",
    "    csvreader = csv.reader(csvfile, delimiter=',')\n",
    "\n",
    "    # Read the header row first\n",
    "    csv_header = next(csvreader)\n",
    "\n",
    "    # Initialize variables\n",
    "    row_count = 0\n",
    "    profit_loss = 0\n",
    "    current_profit_loss = 0\n",
    "    total_change_in_profit = 0\n",
    "    change_in_profit_dict = {}                                                    # Dictionary to hold month and changes to profit /loss\n",
    "    \n",
    "    # Read each row of data after the header\n",
    "    for row in csvreader:\n",
    "        row_count = row_count + 1                                                 # Calculate number of months\n",
    "        profit_loss = profit_loss + int(row[1])                                   # Caluclate total amount of profit / loss\n",
    "             \n",
    "        if row_count > 1:\n",
    "            change_in_profit = int(row[1]) - int(current_profit_loss)             # Calculate avg. changes in profit/loss\n",
    "            total_change_in_profit = total_change_in_profit + change_in_profit    \n",
    "            change_in_profit_dict.update({row[0]: change_in_profit})              # Create month and change to dictionary\n",
    "            #print(change_in_profit_dict)\n",
    "          \n",
    "        current_profit_loss = row[1]   \n",
    "\n",
    "# calculate min and max values of change from dictionary \n",
    "min_v = min(zip(change_in_profit_dict.values(), change_in_profit_dict.keys()))\n",
    "max_v = max(zip(change_in_profit_dict.values(), change_in_profit_dict.keys()))\n",
    "\n",
    "#Print Results\n",
    "print('Financial Analysis')\n",
    "print('------------------')            \n",
    "print('Total number of months:', row_count)\n",
    "print('Total amount of \"Profit/Losses\": $', profit_loss)\n",
    "print('Average of the changes in \"Profit/Losses\":', round(total_change_in_profit / (row_count-1), 2))\n",
    "print('Greatest Increase in Profits:', max_v[1], '($', max_v[0], ')')\n",
    "print('Greatest Decrease in Profits:', min_v[1], '($', min_v[0], ')')\n",
    "\n",
    "    \n",
    "\n"
   ]
  },
  {
   "cell_type": "code",
   "execution_count": null,
   "metadata": {
    "collapsed": true
   },
   "outputs": [],
   "source": []
  },
  {
   "cell_type": "code",
   "execution_count": null,
   "metadata": {
    "collapsed": true
   },
   "outputs": [],
   "source": []
  },
  {
   "cell_type": "code",
   "execution_count": null,
   "metadata": {
    "collapsed": true
   },
   "outputs": [],
   "source": []
  }
 ],
 "metadata": {
  "kernelspec": {
   "display_name": "Python 3",
   "language": "python",
   "name": "python3"
  },
  "language_info": {
   "codemirror_mode": {
    "name": "ipython",
    "version": 3
   },
   "file_extension": ".py",
   "mimetype": "text/x-python",
   "name": "python",
   "nbconvert_exporter": "python",
   "pygments_lexer": "ipython3",
   "version": "3.6.3"
  }
 },
 "nbformat": 4,
 "nbformat_minor": 2
}
